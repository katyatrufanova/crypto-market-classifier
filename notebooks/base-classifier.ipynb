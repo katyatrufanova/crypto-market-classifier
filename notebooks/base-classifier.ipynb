{
 "cells": [
  {
   "cell_type": "markdown",
   "metadata": {},
   "source": [
    "## **Settings**"
   ]
  },
  {
   "cell_type": "code",
   "execution_count": 2,
   "metadata": {},
   "outputs": [],
   "source": [
    "import os\n",
    "from sys import platform\n",
    "from utils.global_config import get_global_config\n",
    "from utils.utils import make_dataset, get_raw_data, get_train_test_data, train_test_model, save_results"
   ]
  },
  {
   "cell_type": "code",
   "execution_count": 3,
   "metadata": {},
   "outputs": [],
   "source": [
    "_config = get_global_config()\n",
    "BASE_PATH = '\\\\'.join(os.getcwd().split('\\\\')[:-1]) + '\\\\' if platform == 'win32' else '/'.join(os.getcwd().split('/')[:-1]) + '/'\n",
    "DATA_PATH = os.path.join(BASE_PATH, _config.get('DATA_PATH'))\n",
    "REPORT_FILE = os.path.join(BASE_PATH, _config.get('RESULT_FILE_DEFAULT'))\n",
    "if platform == 'win32':\n",
    "\tDATA_PATH = DATA_PATH.replace('/', '\\\\')\n",
    "\tREPORT_FILE = REPORT_FILE.replace('/', '\\\\')\n",
    "REMOTE_DATA = _config.get('REMOTE_DATA')\n",
    "VIEW = _config.get('VIEW')\n",
    "EXCHANGE = _config.get('EXCHANGE')\n",
    "CRYPTO = _config.get('CRYPTO')\n",
    "FEATURES_EXCLUDED = _config.get('FEATURES_EXCLUDED')"
   ]
  },
  {
   "cell_type": "code",
   "execution_count": 3,
   "metadata": {},
   "outputs": [],
   "source": [
    "# Uncomment this to import the data\n",
    "\n",
    "# make_dataset(REMOTE_DATA, DATA_PATH)"
   ]
  },
  {
   "cell_type": "code",
   "execution_count": 4,
   "metadata": {},
   "outputs": [],
   "source": [
    "# Uncomment this to check a sample data\n",
    "\n",
    "# candle = get_raw_data(DATA_PATH, VIEW[0], EXCHANGE[0], CRYPTO[0])\n",
    "# snapshot = get_raw_data(DATA_PATH, VIEW[1], EXCHANGE[0], CRYPTO[0])\n",
    "# candle.sample(n=5)\n",
    "# snapshot.sample(n=5)"
   ]
  },
  {
   "cell_type": "code",
   "execution_count": 24,
   "metadata": {},
   "outputs": [
    {
     "name": "stdout",
     "output_type": "stream",
     "text": [
      "> > > > > > > > > > > > > > > > > > > > > > > > > > > > > > > > > > > > > > > > \n",
      "\n",
      "      VIEW  EXCHANGE    CRYPTO              DOWN        NEUTRAL             UP\n",
      "\n",
      "> > > > > > > > > > > > > > > > > > > > > > > > > > > > > > > > > > > > > > > > \n",
      "   CANDLES   BINANCE      AVAX     68408 (14.2%) 340097 (70.7%)  72395 (15.1%)\n",
      "   CANDLES   BINANCE       BNB     69482 (14.5%) 343118 (71.8%)  65420 (13.7%)\n",
      "   CANDLES   BINANCE      DOGE     71291 (14.9%) 336601 (70.1%)  72006 (15.0%)\n",
      "   CANDLES   BINANCE       DOT     64452 (13.4%) 349548 (72.7%)  66900 (13.9%)\n",
      "   CANDLES   BINANCE       NEO     50782 (10.6%) 381230 (79.8%)   45998 (9.6%)\n",
      "   CANDLES   BINANCE       SOL     73210 (15.2%) 337995 (70.3%)  69695 (14.5%)\n",
      "   CANDLES     HOUBI      AVAX     44438 (11.3%) 301665 (76.7%)  46956 (11.9%)\n",
      "   CANDLES     HOUBI       BNB     47649 (12.1%) 299989 (76.3%)  45419 (11.6%)\n",
      "   CANDLES     HOUBI      DOGE     50949 (13.0%) 290424 (73.9%)  51687 (13.1%)\n",
      "   CANDLES     HOUBI       DOT     47303 (12.0%) 297164 (75.6%)  48593 (12.4%)\n",
      "   CANDLES     HOUBI       NEO      35137 (9.5%) 303830 (82.1%)   31060 (8.4%)\n",
      "   CANDLES     HOUBI       SOL     54600 (13.9%) 285927 (72.7%)  52533 (13.4%)\n",
      "   CANDLES       OKX      AVAX     44438 (11.3%) 301664 (76.7%)  46956 (11.9%)\n",
      "   CANDLES       OKX       BNB     47649 (12.1%) 299990 (76.3%)  45420 (11.6%)\n",
      "   CANDLES       OKX      DOGE     50949 (13.0%) 290422 (73.9%)  51687 (13.1%)\n",
      "   CANDLES       OKX       DOT     47303 (12.0%) 297163 (75.6%)  48593 (12.4%)\n",
      "   CANDLES       OKX       NEO      35187 (9.5%) 305146 (82.2%)   31114 (8.4%)\n",
      "   CANDLES       OKX       SOL     54600 (13.9%) 285927 (72.7%)  52533 (13.4%)\n",
      "  SNAPSHOT   BINANCE      AVAX     68408 (14.2%) 340097 (70.7%)  72395 (15.1%)\n",
      "  SNAPSHOT   BINANCE       BNB     69482 (14.5%) 343118 (71.8%)  65420 (13.7%)\n",
      "  SNAPSHOT   BINANCE      DOGE     71291 (14.9%) 336601 (70.1%)  72006 (15.0%)\n",
      "  SNAPSHOT   BINANCE       DOT     64452 (13.4%) 349548 (72.7%)  66900 (13.9%)\n",
      "  SNAPSHOT   BINANCE       NEO     50782 (10.6%) 381230 (79.8%)   45998 (9.6%)\n",
      "  SNAPSHOT   BINANCE       SOL     73210 (15.2%) 337995 (70.3%)  69695 (14.5%)\n",
      "  SNAPSHOT     HOUBI      AVAX     44438 (11.3%) 301665 (76.7%)  46956 (11.9%)\n",
      "  SNAPSHOT     HOUBI       BNB     47649 (12.1%) 299989 (76.3%)  45419 (11.6%)\n",
      "  SNAPSHOT     HOUBI      DOGE     50949 (13.0%) 290424 (73.9%)  51687 (13.1%)\n",
      "  SNAPSHOT     HOUBI       DOT     47303 (12.0%) 297164 (75.6%)  48593 (12.4%)\n",
      "  SNAPSHOT     HOUBI       NEO      35137 (9.5%) 303830 (82.1%)   31060 (8.4%)\n",
      "  SNAPSHOT     HOUBI       SOL     54600 (13.9%) 285927 (72.7%)  52533 (13.4%)\n",
      "  SNAPSHOT       OKX      AVAX     44438 (11.3%) 301664 (76.7%)  46956 (11.9%)\n",
      "  SNAPSHOT       OKX       BNB     47649 (12.1%) 299990 (76.3%)  45420 (11.6%)\n",
      "  SNAPSHOT       OKX      DOGE     50949 (13.0%) 290422 (73.9%)  51687 (13.1%)\n",
      "  SNAPSHOT       OKX       DOT     47303 (12.0%) 297163 (75.6%)  48593 (12.4%)\n",
      "  SNAPSHOT       OKX       NEO      35187 (9.5%) 305146 (82.2%)   31114 (8.4%)\n",
      "  SNAPSHOT       OKX       SOL     54600 (13.9%) 285927 (72.7%)  52533 (13.4%)\n"
     ]
    }
   ],
   "source": [
    "# Printing of classes distributions for each dataset\n",
    "\n",
    "print(''.join(['> ' for i in range(40)]))\n",
    "print(f'\\n{\"VIEW\":>10}{\"EXCHANGE\":>10}{\"CRYPTO\":>10}{\"DOWN\":>18}{\"NEUTRAL\":>15}{\"UP\":>15}\\n')\n",
    "print(''.join(['> ' for i in range(40)]))\n",
    "for v in VIEW:\n",
    "\tfor e in EXCHANGE:\n",
    "\t\tfor c in CRYPTO:\n",
    "\t\t\tdata = get_raw_data(DATA_PATH, v, e, c)\n",
    "\t\t\tsupport = data['labels'].value_counts()\n",
    "\t\t\td, n, u = support['down'], support['neutral'], support['up']\n",
    "\t\t\t_d, _n, _u = round(d * 100 / (d+n+u), 1), round(n * 100 / (d+n+u), 1), round(u * 100 / (d+n+u), 1)\n",
    "\t\t\tprint(f'{v.upper():>10}{e.upper():>10}{c.upper():>10}{str(d)+\" (\"+str(_d)+\"%)\":>18}{str(n)+\" (\"+str(_n)+\"%)\":>15}{str(u)+\" (\"+str(_u)+\"%)\":>15}')"
   ]
  },
  {
   "cell_type": "markdown",
   "metadata": {},
   "source": [
    "## **Group 1**\n",
    "\n",
    "Executing experiments on single views (i.e. **candle** or **snapshot**)."
   ]
  },
  {
   "cell_type": "code",
   "execution_count": 4,
   "metadata": {},
   "outputs": [
    {
     "name": "stdout",
     "output_type": "stream",
     "text": [
      "Executing (1/36)       CANDLES   BINANCE      AVAX\n",
      "Executing (1/36)       CANDLES   BINANCE       BNB\n",
      "Executing (1/36)       CANDLES   BINANCE      DOGE\n",
      "Executing (1/36)       CANDLES   BINANCE       DOT\n",
      "Executing (1/36)       CANDLES   BINANCE       NEO\n",
      "Executing (1/36)       CANDLES   BINANCE       SOL\n",
      "Executing (1/36)       CANDLES     HOUBI      AVAX\n",
      "Executing (1/36)       CANDLES     HOUBI       BNB\n",
      "Executing (1/36)       CANDLES     HOUBI      DOGE\n",
      "Executing (1/36)       CANDLES     HOUBI       DOT\n",
      "Executing (1/36)       CANDLES     HOUBI       NEO\n",
      "Executing (1/36)       CANDLES     HOUBI       SOL\n",
      "Executing (1/36)       CANDLES       OKX      AVAX\n",
      "Executing (1/36)       CANDLES       OKX       BNB\n",
      "Executing (1/36)       CANDLES       OKX      DOGE\n",
      "Executing (1/36)       CANDLES       OKX       DOT\n",
      "Executing (1/36)       CANDLES       OKX       NEO\n",
      "Executing (1/36)       CANDLES       OKX       SOL\n",
      "Executing (1/36)      SNAPSHOT   BINANCE      AVAX\n",
      "Executing (1/36)      SNAPSHOT   BINANCE       BNB\n",
      "Executing (1/36)      SNAPSHOT   BINANCE      DOGE\n",
      "Executing (1/36)      SNAPSHOT   BINANCE       DOT\n",
      "Executing (1/36)      SNAPSHOT   BINANCE       NEO\n",
      "Executing (1/36)      SNAPSHOT   BINANCE       SOL\n",
      "Executing (1/36)      SNAPSHOT     HOUBI      AVAX\n",
      "Executing (1/36)      SNAPSHOT     HOUBI       BNB\n",
      "Executing (1/36)      SNAPSHOT     HOUBI      DOGE\n",
      "Executing (1/36)      SNAPSHOT     HOUBI       DOT\n",
      "Executing (1/36)      SNAPSHOT     HOUBI       NEO\n",
      "Executing (1/36)      SNAPSHOT     HOUBI       SOL\n",
      "Executing (1/36)      SNAPSHOT       OKX      AVAX\n",
      "Executing (1/36)      SNAPSHOT       OKX       BNB\n",
      "Executing (1/36)      SNAPSHOT       OKX      DOGE\n",
      "Executing (1/36)      SNAPSHOT       OKX       DOT\n",
      "Executing (1/36)      SNAPSHOT       OKX       NEO\n",
      "Executing (1/36)      SNAPSHOT       OKX       SOL\n"
     ]
    }
   ],
   "source": [
    "counter = 1\n",
    "for v in VIEW:\n",
    "\tfor e in EXCHANGE:\n",
    "\t\tfor c in CRYPTO:\n",
    "\t\t\tprint(f'{\"Executing (\"+str(counter)+\"/\"+str(len(VIEW)*len(EXCHANGE)*len(CRYPTO))+\")\":<20}{v.upper():>10}{e.upper():>10}{c.upper():>10}')\n",
    "\t\t\tdata = get_raw_data(DATA_PATH, v, e, c)\n",
    "\t\t\tX_train, y_train, X_test, y_test = get_train_test_data(data, FEATURES_EXCLUDED[v], verbose=False)\n",
    "\t\t\tdel data\n",
    "\t\t\tresults = train_test_model(X_train, y_train, X_test, y_test)\n",
    "\t\t\tsave_results(REPORT_FILE, results, v+'-'+e, c)\n",
    "\t\t\tcounter += 1"
   ]
  },
  {
   "cell_type": "markdown",
   "metadata": {},
   "source": [
    "## **Group 2**\n",
    "\n",
    "Executing experiments on double views of the same type (i.e. **candle-candle** or **snapshot-snapshot**)."
   ]
  },
  {
   "cell_type": "code",
   "execution_count": 4,
   "metadata": {},
   "outputs": [
    {
     "name": "stdout",
     "output_type": "stream",
     "text": [
      "Executing (1/36)    candles-BINANCE--candles-HOUBI     AVAX           \n",
      "Executing (2/36)    candles-BINANCE--candles-OKX       AVAX           \n",
      "Executing (3/36)    candles-HOUBI--candles-OKX         AVAX           \n",
      "Executing (4/36)    candles-BINANCE--candles-HOUBI     BNB            \n",
      "Executing (5/36)    candles-BINANCE--candles-OKX       BNB            \n",
      "Executing (6/36)    candles-HOUBI--candles-OKX         BNB            \n",
      "Executing (7/36)    candles-BINANCE--candles-HOUBI     DOGE           \n",
      "Executing (8/36)    candles-BINANCE--candles-OKX       DOGE           \n",
      "Executing (9/36)    candles-HOUBI--candles-OKX         DOGE           \n",
      "Executing (10/36)   candles-BINANCE--candles-HOUBI     DOT            \n",
      "Executing (11/36)   candles-BINANCE--candles-OKX       DOT            \n",
      "Executing (12/36)   candles-HOUBI--candles-OKX         DOT            \n",
      "Executing (13/36)   candles-BINANCE--candles-HOUBI     NEO            \n",
      "Executing (14/36)   candles-BINANCE--candles-OKX       NEO            \n",
      "Executing (15/36)   candles-HOUBI--candles-OKX         NEO            \n",
      "Executing (16/36)   candles-BINANCE--candles-HOUBI     SOL            \n",
      "Executing (17/36)   candles-BINANCE--candles-OKX       SOL            \n",
      "Executing (18/36)   candles-HOUBI--candles-OKX         SOL            \n",
      "Executing (19/36)   snapshot-BINANCE--snapshot-HOUBI   AVAX           \n",
      "Executing (20/36)   snapshot-BINANCE--snapshot-OKX     AVAX           \n",
      "Executing (21/36)   snapshot-HOUBI--snapshot-OKX       AVAX           \n",
      "Executing (22/36)   snapshot-BINANCE--snapshot-HOUBI   BNB            \n",
      "Executing (23/36)   snapshot-BINANCE--snapshot-OKX     BNB            \n",
      "Executing (24/36)   snapshot-HOUBI--snapshot-OKX       BNB            \n",
      "Executing (25/36)   snapshot-BINANCE--snapshot-HOUBI   DOGE           \n",
      "Executing (26/36)   snapshot-BINANCE--snapshot-OKX     DOGE           \n",
      "Executing (27/36)   snapshot-HOUBI--snapshot-OKX       DOGE           \n",
      "Executing (28/36)   snapshot-BINANCE--snapshot-HOUBI   DOT            \n",
      "Executing (29/36)   snapshot-BINANCE--snapshot-OKX     DOT            \n",
      "Executing (30/36)   snapshot-HOUBI--snapshot-OKX       DOT            \n",
      "Executing (31/36)   snapshot-BINANCE--snapshot-HOUBI   NEO            \n",
      "Executing (32/36)   snapshot-BINANCE--snapshot-OKX     NEO            \n",
      "Executing (33/36)   snapshot-HOUBI--snapshot-OKX       NEO            \n",
      "Executing (34/36)   snapshot-BINANCE--snapshot-HOUBI   SOL            \n",
      "Executing (35/36)   snapshot-BINANCE--snapshot-OKX     SOL            \n",
      "Executing (36/36)   snapshot-HOUBI--snapshot-OKX       SOL            \n"
     ]
    }
   ],
   "source": [
    "view_id = {'1': 'BINANCE-HOUBI', '2': 'BINANCE-OKX', '3': 'HOUBI-OKX'}\n",
    "counter = 1\n",
    "for v in VIEW:\n",
    "\tcolumns_to_drop = FEATURES_EXCLUDED[v] + [i+'_1' for i in FEATURES_EXCLUDED[v][1:]]\n",
    "\tfor c in CRYPTO:\n",
    "\t\tfor mv in view_id.values():\n",
    "\t\t\tview_name = v + '-' + mv.split('-')[0] + '--' + v + '-' + mv.split('-')[1]\n",
    "\t\t\tprint(f'{\"Executing (\"+str(counter)+\"/\"+str(len(VIEW)*len(view_id)*len(CRYPTO))+\")\":<20}{view_name:<35}{c.upper():<15}')\n",
    "\t\t\tleft = get_raw_data(DATA_PATH, v, mv.split('-')[0], c)\n",
    "\t\t\tright = get_raw_data(DATA_PATH, v, mv.split('-')[1], c)\n",
    "\t\t\tmerge_side = 'left' if len(left) > len(right) else 'right'\n",
    "\t\t\tdata = left.merge(right, on='origin_time', how=merge_side, suffixes=('', '_1'))\n",
    "\t\t\tX_train, y_train, X_test, y_test = get_train_test_data(data, columns_to_drop)\n",
    "\t\t\tdel left, right, data\n",
    "\t\t\tresults = train_test_model(X_train, y_train, X_test, y_test)\n",
    "\t\t\tsave_results(REPORT_FILE, results, view_name, c)\n",
    "\t\t\tcounter += 1"
   ]
  },
  {
   "cell_type": "markdown",
   "metadata": {},
   "source": [
    "## **Group 3**\n",
    "\n",
    "Executing experiments on double views of different type (i.e. **snapshop-candle**)."
   ]
  },
  {
   "cell_type": "code",
   "execution_count": 10,
   "metadata": {},
   "outputs": [
    {
     "name": "stdout",
     "output_type": "stream",
     "text": [
      "Executing (1/18)    snapshot-BINANCE--candles-BINANCE  AVAX           \n",
      "Executing (2/18)    snapshot-BINANCE--candles-BINANCE  BNB            \n",
      "Executing (3/18)    snapshot-BINANCE--candles-BINANCE  DOGE           \n",
      "Executing (4/18)    snapshot-BINANCE--candles-BINANCE  DOT            \n",
      "Executing (5/18)    snapshot-BINANCE--candles-BINANCE  NEO            \n",
      "Executing (6/18)    snapshot-BINANCE--candles-BINANCE  SOL            \n",
      "Executing (7/18)    snapshot-HOUBI--candles-HOUBI      AVAX           \n",
      "Executing (8/18)    snapshot-HOUBI--candles-HOUBI      BNB            \n",
      "Executing (9/18)    snapshot-HOUBI--candles-HOUBI      DOGE           \n",
      "Executing (10/18)   snapshot-HOUBI--candles-HOUBI      DOT            \n",
      "Executing (11/18)   snapshot-HOUBI--candles-HOUBI      NEO            \n",
      "Executing (12/18)   snapshot-HOUBI--candles-HOUBI      SOL            \n",
      "Executing (13/18)   snapshot-OKX--candles-OKX          AVAX           \n",
      "Executing (14/18)   snapshot-OKX--candles-OKX          BNB            \n",
      "Executing (15/18)   snapshot-OKX--candles-OKX          DOGE           \n",
      "Executing (16/18)   snapshot-OKX--candles-OKX          DOT            \n",
      "Executing (17/18)   snapshot-OKX--candles-OKX          NEO            \n",
      "Executing (18/18)   snapshot-OKX--candles-OKX          SOL            \n"
     ]
    }
   ],
   "source": [
    "counter = 1\n",
    "for e in EXCHANGE:\n",
    "\tfor c in CRYPTO:\n",
    "\t\tcolumns_to_drop = FEATURES_EXCLUDED[VIEW[1]] + ['start', 'stop', 'exchange_1', 'symbol_1', 'labels_1']\n",
    "\t\tview_name = VIEW[1] + '-' + e + '--' + VIEW[0] + '-' + e\n",
    "\t\tprint(f'{\"Executing (\"+str(counter)+\"/\"+str(len(EXCHANGE)*len(CRYPTO))+\")\":<20}{view_name:<35}{c.upper():<15}')\n",
    "\t\tsnapshot = get_raw_data(DATA_PATH, VIEW[1], e, c)\n",
    "\t\tcandle = get_raw_data(DATA_PATH, VIEW[0], e, c)\n",
    "\t\tdata = snapshot.merge(candle, on='origin_time', how='left', suffixes=('', '_1'))\n",
    "\t\tX_train, y_train, X_test, y_test = get_train_test_data(data, columns_to_drop)\n",
    "\t\tdel snapshot, candle, data\n",
    "\t\tresults = train_test_model(X_train, y_train, X_test, y_test)\n",
    "\t\tsave_results(REPORT_FILE, results, view_name, c)\n",
    "\t\tcounter += 1"
   ]
  },
  {
   "cell_type": "markdown",
   "metadata": {},
   "source": [
    "## **Group 4**\n",
    "\n",
    "Executing experiments on triple views of the same type (i.e. **snapshop-snapshot-snapshot** or **candle-candle-candle**)."
   ]
  },
  {
   "cell_type": "code",
   "execution_count": 4,
   "metadata": {},
   "outputs": [
    {
     "name": "stdout",
     "output_type": "stream",
     "text": [
      "Executing (1/12)    candles-BINANCE--candles-HOUBI--candles-OKX       AVAX           \n",
      "Executing (2/12)    candles-BINANCE--candles-HOUBI--candles-OKX       BNB            \n",
      "Executing (3/12)    candles-BINANCE--candles-HOUBI--candles-OKX       DOGE           \n",
      "Executing (4/12)    candles-BINANCE--candles-HOUBI--candles-OKX       DOT            \n",
      "Executing (5/12)    candles-BINANCE--candles-HOUBI--candles-OKX       NEO            \n",
      "Executing (6/12)    candles-BINANCE--candles-HOUBI--candles-OKX       SOL            \n"
     ]
    }
   ],
   "source": [
    "counter = 1\n",
    "for v in [VIEW[0]]:  # WARNING: OUT-OF-MEMORY EXPERIMENT FROM VIEW[1]\n",
    "\tfor c in CRYPTO:\n",
    "\t\tcolumns_to_drop = FEATURES_EXCLUDED[v] + [i+'_1' for i in FEATURES_EXCLUDED[v][1:]] + [i+'_2' for i in FEATURES_EXCLUDED[v][1:]]\n",
    "\t\tview_name = v + '-' + EXCHANGE[0] + '--' + v + '-' + EXCHANGE[1] + '--' + v + '-' + EXCHANGE[2]\n",
    "\t\tprint(f'{\"Executing (\"+str(counter)+\"/\"+str(len(VIEW)*len(CRYPTO))+\")\":<20}{view_name:<50}{c.upper():<15}')\n",
    "\t\tbinance = get_raw_data(DATA_PATH, v, EXCHANGE[0], c)\n",
    "\t\thoubi = get_raw_data(DATA_PATH, v, EXCHANGE[1], c)\n",
    "\t\tokx = get_raw_data(DATA_PATH, v, EXCHANGE[2], c)\n",
    "\t\tdata = binance.merge(houbi, on='origin_time', how='left', suffixes=('', '_1'))\n",
    "\t\tdata = data.merge(okx, on='origin_time', how='left', suffixes=('', '_2'))\n",
    "\t\tX_train, y_train, X_test, y_test = get_train_test_data(data, columns_to_drop)\n",
    "\t\tdel binance, houbi, okx, data\n",
    "\t\tresults = train_test_model(X_train, y_train, X_test, y_test)\n",
    "\t\tsave_results(REPORT_FILE, results, view_name, c)\n",
    "\t\tcounter += 1"
   ]
  },
  {
   "cell_type": "markdown",
   "metadata": {},
   "source": [
    "## **Group 5**\n",
    "\n",
    "Executing experiments on quadruple views of different couples of the same type (i.e. **snapshop-snapshot-candle-candle** )."
   ]
  },
  {
   "cell_type": "code",
   "execution_count": 20,
   "metadata": {},
   "outputs": [],
   "source": [
    "# WARNING: OUT-OF-MEMORY EXPERIMENT\n",
    "\n",
    "view_id = {'1': 'BINANCE-HOUBI', '2': 'BINANCE-OKX', '3': 'HOUBI-OKX'}\n",
    "counter = 1\n",
    "columns_to_drop = FEATURES_EXCLUDED[VIEW[1]] + [i+'_1' for i in FEATURES_EXCLUDED[VIEW[1]][1:]] + FEATURES_EXCLUDED[VIEW[0]] + [i+'_1' for i in FEATURES_EXCLUDED[VIEW[0]][1:]]\n",
    "columns_to_drop = list(set(columns_to_drop))\n",
    "for c in CRYPTO:\n",
    "\tfor mv in view_id.values():\n",
    "\t\tview_name = VIEW[1] + '-' + mv.split('-')[0] + '--' + VIEW[1] + '-' + mv.split('-')[1] + '--' + VIEW[0] + '-' + mv.split('-')[0] + '--' + VIEW[0] + '-' + mv.split('-')[1]\n",
    "\t\tprint(f'{\"Executing (\"+str(counter)+\"/\"+str(len(view_id)*len(CRYPTO))+\")\":<20}{view_name:<70}{c.upper():<15}')\n",
    "\t\tsnapshot_left = get_raw_data(DATA_PATH, VIEW[1], mv.split('-')[0], c)\n",
    "\t\tsnapshot_right = get_raw_data(DATA_PATH, VIEW[1], mv.split('-')[1], c)\n",
    "\t\tcandle_left = get_raw_data(DATA_PATH, VIEW[0], mv.split('-')[0], c)\n",
    "\t\tcandle_right = get_raw_data(DATA_PATH, VIEW[0], mv.split('-')[1], c)\n",
    "\t\tmerge_side = 'left' if len(snapshot_left) > len(snapshot_right) else 'right'\n",
    "\t\tdata_left = snapshot_left.merge(snapshot_right, on='origin_time', how=merge_side, suffixes=('', '_1'))\n",
    "\t\tmerge_side = 'left' if len(candle_left) > len(candle_right) else 'right'\n",
    "\t\tdata_right = candle_left.merge(candle_right, on='origin_time', how=merge_side, suffixes=('', '_1'))\n",
    "\t\tdata = data_left.merge(data_right, on='origin_time', how='left', suffixes=('', '_2'))\n",
    "\t\tcommon = [i for i in data_left.columns if i in data_right.columns]\n",
    "\t\tcolumns_to_drop = columns_to_drop + [i+'_2' for i in common[1:]]\n",
    "\t\tX_train, y_train, X_test, y_test = get_train_test_data(data, columns_to_drop)\n",
    "\t\tdel snapshot_left, snapshot_right, candle_left, candle_right, data_left, data_right, data\n",
    "\t\tresults = train_test_model(X_train, y_train, X_test, y_test)\n",
    "\t\tsave_results(REPORT_FILE, results, view_name, c)\n",
    "\t\tcounter += 1"
   ]
  },
  {
   "cell_type": "markdown",
   "metadata": {},
   "source": [
    "## **Group 6**\n",
    "\n",
    "Executing experiments on sixtuple views of different triples of the same type (i.e. **snapshop-snapshot-snapshot-candle-candle-candle** )."
   ]
  },
  {
   "cell_type": "code",
   "execution_count": 32,
   "metadata": {},
   "outputs": [],
   "source": [
    "# WARNING: OUT-OF-MEMORY EXPERIMENT\n",
    "\n",
    "columns_to_drop = FEATURES_EXCLUDED[VIEW[1]] + [i+'_1' for i in FEATURES_EXCLUDED[VIEW[1]][1:]] + [i+'_2' for i in FEATURES_EXCLUDED[VIEW[1]][1:]] + FEATURES_EXCLUDED[VIEW[0]] + [i+'_1' for i in FEATURES_EXCLUDED[VIEW[0]][1:]] + [i+'_2' for i in FEATURES_EXCLUDED[VIEW[0]][1:]]\n",
    "columns_to_drop = list(set(columns_to_drop))\n",
    "for i, c in enumerate(CRYPTO):\n",
    "\tview_name = 'snapshot-BINANCE--snapshot-HOUBI--snapshot-OKX--candle-BINANCE--candle-HOUBI--candle-OKX'\n",
    "\tprint(f'{\"Executing (\"+str(i+1)+\"/\"+str(len(CRYPTO))+\")\":<18}{view_name:<90}{c.upper():<10}')\n",
    "\tsnapshot_binance = get_raw_data(DATA_PATH, VIEW[1], EXCHANGE[0], c)\n",
    "\tsnapshot_houbi = get_raw_data(DATA_PATH, VIEW[1], EXCHANGE[1], c)\n",
    "\tsnapshot_okx = get_raw_data(DATA_PATH, VIEW[1], EXCHANGE[2], c)\n",
    "\tcandle_binance = get_raw_data(DATA_PATH, VIEW[0], EXCHANGE[0], c)\n",
    "\tcandle_houbi = get_raw_data(DATA_PATH, VIEW[0], EXCHANGE[1], c)\n",
    "\tcandle_okx = get_raw_data(DATA_PATH, VIEW[0], EXCHANGE[2], c)\n",
    "\tmerge_side = 'left' if len(snapshot_binance) > len(snapshot_houbi) else 'right'\n",
    "\tdata_left = snapshot_binance.merge(snapshot_houbi, on='origin_time', how=merge_side, suffixes=('', '_1'))\n",
    "\tdata_left = data_left.merge(snapshot_okx, on='origin_time', how='left', suffixes=('', '_2'))\n",
    "\tmerge_side = 'left' if len(candle_binance) > len(candle_houbi) else 'right'\n",
    "\tdata_right = candle_binance.merge(candle_houbi, on='origin_time', how=merge_side, suffixes=('', '_1'))\n",
    "\tdata_right = data_right.merge(candle_okx, on='origin_time', how='left', suffixes=('', '_2'))\n",
    "\tdata = data_left.merge(data_right, on='origin_time', how='left', suffixes=('', '_3'))\n",
    "\tcommon = [i for i in data_left.columns if i in data_right.columns]\n",
    "\tcolumns_to_drop = columns_to_drop + [i+'_3' for i in common[1:]]\n",
    "\tX_train, y_train, X_test, y_test = get_train_test_data(data, columns_to_drop)\n",
    "\tdel snapshot_binance, snapshot_houbi, snapshot_okx, candle_binance, candle_houbi, candle_okx, data_left, data_right, data\n",
    "\tresults = train_test_model(X_train, y_train, X_test, y_test)\n",
    "\tsave_results(REPORT_FILE, results, view_name, c)"
   ]
  }
 ],
 "metadata": {
  "kernelspec": {
   "display_name": "Python 3",
   "language": "python",
   "name": "python3"
  },
  "language_info": {
   "codemirror_mode": {
    "name": "ipython",
    "version": 3
   },
   "file_extension": ".py",
   "mimetype": "text/x-python",
   "name": "python",
   "nbconvert_exporter": "python",
   "pygments_lexer": "ipython3",
   "version": "3.11.4"
  }
 },
 "nbformat": 4,
 "nbformat_minor": 2
}
